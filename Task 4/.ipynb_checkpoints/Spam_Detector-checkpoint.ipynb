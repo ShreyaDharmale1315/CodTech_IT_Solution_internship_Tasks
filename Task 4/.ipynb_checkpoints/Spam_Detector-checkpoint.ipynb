{
 "cells": [
  {
   "cell_type": "code",
   "execution_count": 1,
   "id": "ef58c753",
   "metadata": {},
   "outputs": [],
   "source": [
    "import warnings\n",
    "warnings.filterwarnings('ignore')  # Suppress warnings\n",
    "\n",
    "import pandas as pd\n",
    "import matplotlib.pyplot as plt\n",
    "import seaborn as sns\n",
    "from sklearn.model_selection import train_test_split\n",
    "from sklearn.ensemble import RandomForestClassifier\n",
    "from sklearn.feature_extraction.text import TfidfVectorizer\n",
    "from sklearn.metrics import accuracy_score, confusion_matrix, classification_report\n"
   ]
  },
  {
   "cell_type": "code",
   "execution_count": null,
   "id": "84407f6c",
   "metadata": {},
   "outputs": [
    {
     "name": "stdout",
     "output_type": "stream",
     "text": [
      "❌ emails.csv not found. Please place it in the same folder as this notebook.\n"
     ]
    }
   ],
   "source": [
    "# Load Email Dataset\n",
    "try:\n",
    "    df_email = pd.read_csv(\"emails.csv\")\n",
    "    print(\"✅ Email dataset loaded successfully!\")\n",
    "    print(\"Shape of dataset:\", df_email.shape)\n",
    "except FileNotFoundError:\n",
    "    print(\"❌ emails.csv not found. Please place it in the same folder as this notebook.\")\n",
    "\n"
   ]
  },
  {
   "cell_type": "code",
   "execution_count": 13,
   "id": "73747edb",
   "metadata": {},
   "outputs": [
    {
     "name": "stdout",
     "output_type": "stream",
     "text": [
      "Accuracy: 0.9777777777777777\n",
      "\n",
      "Classification Report:\n",
      "               precision    recall  f1-score   support\n",
      "\n",
      "           0       0.99      0.98      0.98       739\n",
      "           1       0.96      0.96      0.96       296\n",
      "\n",
      "    accuracy                           0.98      1035\n",
      "   macro avg       0.97      0.97      0.97      1035\n",
      "weighted avg       0.98      0.98      0.98      1035\n",
      "\n"
     ]
    },
    {
     "data": {
      "image/png": "[encoded data removed]",
      "text/plain": [
       "<Figure size 432x288 with 2 Axes>"
      ]
     },
     "metadata": {
      "needs_background": "light"
     },
     "output_type": "display_data"
    },
    {
     "name": "stdout",
     "output_type": "stream",
     "text": [
      "\n",
      "🔎 Sample Predictions:\n",
      "Spam  --> Spam\n",
      "Not Spam  --> Not Spam\n"
     ]
    }
   ],
   "source": [
    "# Features and Labels\n",
    "X_email = df_email.iloc[:, 1:-1]\n",
    "y_email = df_email.iloc[:, -1]\n",
    "\n",
    "# Train-Test Split\n",
    "X_train, X_test, y_train, y_test = train_test_split(X_email, y_email, test_size=0.2, random_state=42)\n",
    "\n",
    "# Train Model\n",
    "email_model = RandomForestClassifier(n_estimators=100, random_state=42)\n",
    "email_model.fit(X_train, y_train)\n",
    "\n",
    "# Predictions\n",
    "y_pred = email_model.predict(X_test)\n",
    "\n",
    "# Evaluation\n",
    "print(\"Accuracy:\", accuracy_score(y_test, y_pred))\n",
    "print(\"\\nClassification Report:\\n\", classification_report(y_test, y_pred))\n",
    "\n",
    "# Confusion Matrix\n",
    "cm = confusion_matrix(y_test, y_pred)\n",
    "sns.heatmap(cm, annot=True, fmt='d', cmap='Blues', xticklabels=['Not Spam','Spam'], yticklabels=['Not Spam','Spam'])\n",
    "plt.xlabel(\"Predicted\")\n",
    "plt.ylabel(\"Actual\")\n",
    "plt.title(\"Email Spam Confusion Matrix\")\n",
    "plt.show()\n",
    "\n",
    "# Sample Predictions\n",
    "sample_not_spam = X_test[y_test == 0].iloc[[0]]\n",
    "sample_spam = X_test[y_test == 1].iloc[[0]]\n",
    "\n",
    "print(\"\\n🔎 Sample Predictions:\")\n",
    "print(\"Spam  -->\", \"Spam\" if email_model.predict(sample_spam)[0] == 1 else \"Not Spam\")\n",
    "print(\"Not Spam  -->\", \"Spam\" if email_model.predict(sample_not_spam)[0] == 1 else \"Not Spam\")\n"
   ]
  },
  {
   "cell_type": "code",
   "execution_count": 31,
   "id": "cfb5664f",
   "metadata": {},
   "outputs": [
    {
     "name": "stdout",
     "output_type": "stream",
     "text": [
      "❌ sms.tsv not found. Please place it in the same folder as this notebook.\n"
     ]
    }
   ],
   "source": [
    "# Load SMS Dataset\n",
    "try:\n",
    "    df_sms = pd.read_csv(\"sms.tsv\", sep='\\t', header=None, names=['label','message'])\n",
    "    print(\"✅ SMS dataset loaded successfully!\")\n",
    "    print(\"Shape of dataset:\", df_sms.shape)\n",
    "except FileNotFoundError:\n",
    "    print(\"❌ sms.tsv not found. Please place it in the same folder as this notebook.\")\n"
   ]
  },
  {
   "cell_type": "code",
   "execution_count": 22,
   "id": "8c489400",
   "metadata": {},
   "outputs": [
    {
     "name": "stdout",
     "output_type": "stream",
     "text": [
      "✅ Model Trained Successfully!\n",
      "\n",
      "Accuracy: 0.9820627802690582\n",
      "\n",
      "Classification Report:\n",
      "               precision    recall  f1-score   support\n",
      "\n",
      "           0       0.98      1.00      0.99       966\n",
      "           1       1.00      0.87      0.93       149\n",
      "\n",
      "    accuracy                           0.98      1115\n",
      "   macro avg       0.99      0.93      0.96      1115\n",
      "weighted avg       0.98      0.98      0.98      1115\n",
      "\n"
     ]
    },
    {
     "data": {
      "image/png": "[encoded data removed]",
      "text/plain": [
       "<Figure size 432x288 with 2 Axes>"
      ]
     },
     "metadata": {
      "needs_background": "light"
     },
     "output_type": "display_data"
    },
    {
     "name": "stdout",
     "output_type": "stream",
     "text": [
      "\n",
      "🔎 Sample Predictions:\n",
      "Message: 'Congratulations! You won a free iPhone! Claim now' --> Spam\n",
      "Message: 'Hey, are we still meeting for lunch today?' --> Not Spam\n"
     ]
    }
   ],
   "source": [
    "# 📌 Load SMS Dataset\n",
    "df_sms = pd.read_csv(\"sms.tsv\", sep=\"\\t\", header=None, names=[\"label\", \"message\"])\n",
    "\n",
    "# Drop missing values (important fix for NaN error)\n",
    "df_sms.dropna(inplace=True)\n",
    "\n",
    "# Encode Labels (ham=0, spam=1)\n",
    "df_sms['label'] = df_sms['label'].map({'ham': 0, 'spam': 1})\n",
    "\n",
    "# Features (X) and Labels (y)\n",
    "X_sms = df_sms['message']\n",
    "y_sms = df_sms['label']\n",
    "\n",
    "# 📌 TF-IDF Vectorization\n",
    "vectorizer = TfidfVectorizer(stop_words='english', max_features=5000, ngram_range=(1,2))\n",
    "X_sms_vec = vectorizer.fit_transform(X_sms)\n",
    "\n",
    "# 📌 Train-Test Split\n",
    "X_train, X_test, y_train, y_test = train_test_split(\n",
    "    X_sms_vec, y_sms, test_size=0.2, random_state=42\n",
    ")\n",
    "\n",
    "# 📌 Train Model\n",
    "sms_model = RandomForestClassifier(n_estimators=100, random_state=42)\n",
    "sms_model.fit(X_train, y_train)\n",
    "\n",
    "# 📌 Predictions\n",
    "y_pred = sms_model.predict(X_test)\n",
    "\n",
    "# 📌 Evaluation\n",
    "print(\"✅ Model Trained Successfully!\\n\")\n",
    "print(\"Accuracy:\", accuracy_score(y_test, y_pred))\n",
    "print(\"\\nClassification Report:\\n\", classification_report(y_test, y_pred))\n",
    "\n",
    "# 📌 Confusion Matrix\n",
    "cm = confusion_matrix(y_test, y_pred)\n",
    "sns.heatmap(cm, annot=True, fmt='d', cmap='Greens', xticklabels=['Ham','Spam'], yticklabels=['Ham','Spam'])\n",
    "plt.xlabel(\"Predicted\")\n",
    "plt.ylabel(\"Actual\")\n",
    "plt.title(\"SMS Spam Confusion Matrix\")\n",
    "plt.show()\n",
    "\n",
    "# 📌 Sample Predictions\n",
    "sample_sms = [\n",
    "    \"Congratulations! You won a free iPhone! Claim now\",\n",
    "    \"Hey, are we still meeting for lunch today?\"\n",
    "]\n",
    "predictions = sms_model.predict(vectorizer.transform(sample_sms))\n",
    "\n",
    "print(\"\\n🔎 Sample Predictions:\")\n",
    "for i, pred in enumerate(predictions):\n",
    "    print(f\"Message: '{sample_sms[i]}' -->\", \"Spam\" if pred == 1 else \"Not Spam\")"
   ]
  },
  {
   "cell_type": "code",
   "execution_count": null,
   "id": "aea8b647",
   "metadata": {},
   "outputs": [],
   "source": []
  }
 ],
 "metadata": {
  "kernelspec": {
   "display_name": "booksenv",
   "language": "python",
   "name": "python3"
  },
  "language_info": {
   "codemirror_mode": {
    "name": "ipython",
    "version": 3
   },
   "file_extension": ".py",
   "mimetype": "text/x-python",
   "name": "python",
   "nbconvert_exporter": "python",
   "pygments_lexer": "ipython3",
   "version": "3.6.13"
  }
 },
 "nbformat": 4,
 "nbformat_minor": 5
}
